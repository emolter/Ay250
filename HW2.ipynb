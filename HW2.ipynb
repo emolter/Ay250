{
 "cells": [
  {
   "cell_type": "code",
   "execution_count": 1,
   "metadata": {
    "collapsed": true
   },
   "outputs": [],
   "source": [
    "import emcee"
   ]
  },
  {
   "cell_type": "code",
   "execution_count": 2,
   "metadata": {
    "collapsed": true
   },
   "outputs": [],
   "source": [
    "import fsps"
   ]
  },
  {
   "cell_type": "code",
   "execution_count": 3,
   "metadata": {
    "collapsed": true
   },
   "outputs": [],
   "source": [
    "import corner"
   ]
  },
  {
   "cell_type": "code",
   "execution_count": 4,
   "metadata": {
    "collapsed": true
   },
   "outputs": [],
   "source": [
    "import numpy as np\n",
    "import matplotlib.pyplot as plt\n",
    "%matplotlib inline"
   ]
  },
  {
   "cell_type": "markdown",
   "metadata": {},
   "source": [
    "# Problem 1"
   ]
  },
  {
   "cell_type": "markdown",
   "metadata": {},
   "source": [
    "The error on Wikipedia is..."
   ]
  },
  {
   "cell_type": "markdown",
   "metadata": {},
   "source": [
    "# Problem 2"
   ]
  },
  {
   "cell_type": "markdown",
   "metadata": {},
   "source": [
    "## 2.1"
   ]
  },
  {
   "cell_type": "code",
   "execution_count": 12,
   "metadata": {
    "collapsed": true
   },
   "outputs": [],
   "source": [
    "#theta = (Mmin,Mmax,alpha)\n",
    "theta_true = 0.1,10.0,-2.0\n",
    "N = 100 #number of stars to generate\n",
    "dm = 0.01 #distance between mass bins in model\n",
    "\n",
    "def powerLaw(M,theta):\n",
    "    return M**(theta[2])\n",
    "\n",
    "def probDist(dm,theta):\n",
    "    '''Normalized probability distribution of masses'''\n",
    "    arr = np.arange(theta[0],theta[1],dm)\n",
    "    prob = powerLaw(arr, theta)\n",
    "    return arr,prob/np.sum(prob)\n",
    "\n",
    "def sample_dist(N,dm,theta):\n",
    "    arr, pd = probDist(dm,theta)\n",
    "    stars = np.random.choice(arr,N,p=pd) #non-uniform random sample over the mass range, where pd is the prob. distribution\n",
    "    return stars\n"
   ]
  },
  {
   "cell_type": "code",
   "execution_count": 14,
   "metadata": {
    "collapsed": false
   },
   "outputs": [],
   "source": [
    "stars = sample_dist(N,dm,theta_true)"
   ]
  },
  {
   "cell_type": "code",
   "execution_count": 15,
   "metadata": {
    "collapsed": false
   },
   "outputs": [
    {
     "data": {
      "image/png": "[encoded data removed]",
      "text/plain": [
       "<matplotlib.figure.Figure at 0x1481fea90>"
      ]
     },
     "metadata": {},
     "output_type": "display_data"
    }
   ],
   "source": [
    "plt.hist(stars, bins=np.logspace(-1, 1, 20))\n",
    "plt.gca().set_xscale(\"log\")\n",
    "plt.title('Initial Mass Function')\n",
    "plt.xlabel('Stellar Mass (M_sun)')\n",
    "plt.ylabel('Number of Stars')\n",
    "plt.show()\n",
    "    "
   ]
  },
  {
   "cell_type": "markdown",
   "metadata": {},
   "source": [
    "## 2.2"
   ]
  },
  {
   "cell_type": "code",
   "execution_count": null,
   "metadata": {
    "collapsed": true
   },
   "outputs": [],
   "source": [
    "ndim, nwalkers = 3, 100\n",
    "\n",
    "def lnlike(theta,stars):\n",
    "    '''What to put here?'''\n",
    "    return \n",
    "\n",
    "def lnprior(theta):\n",
    "    '''Flat prior for now.'''\n",
    "    if 0.05 < theta[0] < 0.2 and 5.0 < theta[1] < 100.0 and -5.0 < theta[2] < 0.0:\n",
    "        return 0.0\n",
    "    else:\n",
    "        return -np.inf\n",
    "\n",
    "def lnprob(theta,stars):\n",
    "    return lnprior(theta) + lnlike(theta,stars)\n",
    "\n",
    "#randomize initial position of walkers\n",
    "p0 = [1e-2*np.random.randn(ndim) for i in range(nwalkers)]\n",
    "\n",
    "sampler = emcee.EnsembleSampler(nwalkers, ndim, lnprob, args=(x,y,yerr))\n",
    "sampler.run_mcmc(p0, 1000)\n",
    "\n",
    "fig = corner.corner(sampler.flatchain, labels=['$M_low$', '$M_high$','alpha'])\n",
    "plt.show()\n"
   ]
  }
 ],
 "metadata": {
  "kernelspec": {
   "display_name": "Python [Root]",
   "language": "python",
   "name": "Python [Root]"
  },
  "language_info": {
   "codemirror_mode": {
    "name": "ipython",
    "version": 2
   },
   "file_extension": ".py",
   "mimetype": "text/x-python",
   "name": "python",
   "nbconvert_exporter": "python",
   "pygments_lexer": "ipython2",
   "version": "2.7.12"
  }
 },
 "nbformat": 4,
 "nbformat_minor": 0
}
