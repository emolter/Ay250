{
 "cells": [
  {
   "cell_type": "markdown",
   "metadata": {},
   "source": [
    "# Problem 2"
   ]
  },
  {
   "cell_type": "code",
   "execution_count": 2,
   "metadata": {
    "collapsed": false
   },
   "outputs": [],
   "source": [
    "import numpy as np\n",
    "import matplotlib.mlab as mlab\n",
    "import matplotlib.pyplot as plt\n",
    "%matplotlib inline"
   ]
  },
  {
   "cell_type": "code",
   "execution_count": null,
   "metadata": {
    "collapsed": false
   },
   "outputs": [],
   "source": [
    "#step 1: define log prob\n",
    "def lnprob(x,mu,sigma):\n",
    "    return -np.log(np.sqrt(2*np.pi*sigma**2))-(mu-x)**2/(2*sigma**2)\n",
    "\n",
    "def gauss1d(x, mu, sig):\n",
    "    return np.exp(-np.power(x - mu, 2.) / (2 * np.power(sig, 2.)))\n",
    "\n",
    "def randgen(rng,mid):\n",
    "    '''random_sample() goes from 0 to 1; this makes it so a full range and midpoint is input'''\n",
    "    return mid + rng*(np.random.random() - 0.5)\n",
    "\n",
    "\n",
    "class mcmc:\n",
    "    \n",
    "    def __init__(self,nsteps=1000,stepsize=1,x0=0.0):\n",
    "        self.x0 = x0\n",
    "        self.stepsize = stepsize\n",
    "        self.lnpchain = [lnprob(x0,mu,sigma)]\n",
    "        self.chain = [x0]\n",
    "        self.nsteps = nsteps\n",
    "        self.reject = 0.0\n",
    "    \n",
    "    #step 2: define proposal density\n",
    "    def propdensity_linear(self,theta):\n",
    "        return theta + 2*self.stepsize*(np.random.random()-0.5) #random number from -stepsize to stepsize\n",
    "\n",
    "    def propdensity_gaussian(self,theta):\n",
    "        '''actually using this one'''\n",
    "        return np.random.normal(loc=theta,scale=self.stepsize) #random number in Gaussian around stepsize with sigma = stepsize\n",
    "    \n",
    "    #step 4: the guts\n",
    "    def metro_h(self):\n",
    "        thetai = self.x0\n",
    "        for step in range(self.nsteps):\n",
    "            thetaj = self.propdensity_gaussian(thetai)\n",
    "            lpi = lnprob(thetai,mu,sigma)\n",
    "            lpj = lnprob(thetaj,mu,sigma)\n",
    "            alpha = lpi/lpj\n",
    "            if alpha >= 1:\n",
    "                self.chain.append(thetaj)\n",
    "                self.lnpchain.append(lpj)\n",
    "                thetai = thetaj\n",
    "            else:\n",
    "                r = np.random.random()\n",
    "                if alpha >= r:\n",
    "                    self.chain.append(thetaj)\n",
    "                    self.lnpchain.append(lpj)\n",
    "                    thetai = thetaj\n",
    "                else:\n",
    "                    self.reject += 1.0\n",
    "                    self.chain.append(thetai)\n",
    "                    self.lnpchain.append(lpi)\n",
    "        return self.chain\n",
    "    \n",
    "    \n",
    "    \n",
    "    def spitstats(self):\n",
    "        print('Acceptance fraction: '+str(1.0-(self.reject/float(self.nsteps))))\n",
    "        \n",
    "        plt.plot(range(self.nsteps+1),self.chain)\n",
    "        plt.title('Walk path')\n",
    "        plt.xlabel('Step')\n",
    "        plt.ylabel('x')\n",
    "        plt.show()\n",
    "        plt.close()\n",
    "        \n",
    "        plt.plot(range(self.nsteps+1),self.lnpchain)\n",
    "        plt.title('Probability path')\n",
    "        plt.xlabel('Step')\n",
    "        plt.ylabel('P(x)')\n",
    "        plt.show()\n",
    "        plt.close()\n",
    "        \n",
    "        n,bins,patches = plt.hist(self.chain,50,normed=1)\n",
    "        \n",
    "        #best fit line\n",
    "        #xvals = np.arange(-5*sigma,5*sigma+0.1,0.1)\n",
    "        #plt.plot(xvals, gauss1d(bins,mu,sigma),color = 'r', linestyle = ':',lw=2)\n",
    "\n",
    "        # add a 'best fit' line\n",
    "        z = mlab.normpdf(bins, mu, sigma)\n",
    "        l = plt.plot(bins, z, 'r--', linewidth=1)\n",
    "        \n",
    "        plt.title('Probability Histogram')\n",
    "        plt.xlabel('x')\n",
    "        plt.ylabel('Probability')\n",
    "        plt.show()\n",
    "            \n",
    "\n",
    "\n",
    "\n"
   ]
  },
  {
   "cell_type": "code",
   "execution_count": null,
   "metadata": {
    "collapsed": false
   },
   "outputs": [],
   "source": [
    "#step 3: starting value\n",
    "x0 = 3.0\n",
    "mu = 0.0\n",
    "sigma = 1\n",
    "\n",
    "\n",
    "mc = mcmc(nsteps=1000,x0=mu,stepsize=4)\n",
    "mc.metro_h()\n",
    "mc.spitstats()"
   ]
  },
  {
   "cell_type": "markdown",
   "metadata": {},
   "source": [
    "# Problem 3"
   ]
  },
  {
   "cell_type": "code",
   "execution_count": null,
   "metadata": {
    "collapsed": false
   },
   "outputs": [],
   "source": [
    "def model(x,m,b):\n",
    "    return m*x + b\n",
    "\n",
    "def fakedata(sigma,sigmax,npts):\n",
    "    x = np.arange(-10,10+20/npts,20/npts)\n",
    "    x = np.random.normal(loc=x,scale=sigmax)\n",
    "    y = model(x,m,b)\n",
    "    y = np.random.normal(loc=y,scale=sigma)\n",
    "    return x,y\n",
    "\n",
    "m = 5.\n",
    "b = -2.\n",
    "sigma = 5.\n",
    "sigmax = 3\n",
    "npts = 100.\n",
    "\n",
    "x,y = fakedata(sigma,sigmax,npts)"
   ]
  },
  {
   "cell_type": "code",
   "execution_count": null,
   "metadata": {
    "collapsed": true
   },
   "outputs": [],
   "source": [
    "def lnlike(theta,x,y,sigma):\n",
    "    return -0.5 * np.sum((y - model(x,theta[0],theta[1]))**2/(sigma**2) + np.log(2.*np.pi*sigma**2))\n",
    "\n",
    "def lnprior(theta):\n",
    "    if -10 < theta[0] < 10 and -10 < theta[1] < 10:\n",
    "        return 0.0\n",
    "    else:\n",
    "        return -np.inf\n",
    "\n",
    "def lnprob(theta,x,y,sigma):\n",
    "    return lnprior(theta) + lnlike(theta,x,y,sigma)"
   ]
  },
  {
   "cell_type": "code",
   "execution_count": null,
   "metadata": {
    "collapsed": false
   },
   "outputs": [],
   "source": [
    "class mcmc2d:\n",
    "    \n",
    "    def __init__(self,nsteps=1000,stepxy=(1,1),theta0=(0.0,0.0)):\n",
    "        self.theta0 = theta0\n",
    "        self.stepxy = stepxy\n",
    "        self.lnpchain = [lnprob(theta0,x,y,sigma)]\n",
    "        self.chain = [theta0]\n",
    "        self.nsteps = nsteps\n",
    "        self.accept = [1]\n",
    "    \n",
    "    #step 2: define proposal density\n",
    "    def propdensity_gaussian(self,thetai):\n",
    "        newx = np.random.normal(loc=thetai[0],scale=self.stepxy[0])\n",
    "        newy = np.random.normal(loc=thetai[0],scale=self.stepxy[1])\n",
    "        thetaj = (newx,newy)\n",
    "        return thetaj #random number in Gaussian around stepsize with sigma = stepsize\n",
    "    \n",
    "    #step 4: the guts\n",
    "    def metro_h(self):\n",
    "        thetai = self.theta0\n",
    "        for step in range(self.nsteps):\n",
    "            thetaj = self.propdensity_gaussian(thetai)\n",
    "            lpi = lnprob(thetai,x,y,sigma)\n",
    "            lpj = lnprob(thetaj,x,y,sigma)\n",
    "            #alpha = np.exp(lpj)/np.exp(lpi)\n",
    "            alpha = lpi/lpj\n",
    "            if alpha >= 1:\n",
    "                self.chain.append(thetaj)\n",
    "                self.lnpchain.append(lpj)\n",
    "                thetai = thetaj\n",
    "                self.accept.append(1)\n",
    "            else:\n",
    "                r = np.random.random()\n",
    "                if alpha >= r:\n",
    "                    self.chain.append(thetaj)\n",
    "                    self.lnpchain.append(lpj)\n",
    "                    thetai = thetaj\n",
    "                    self.accept.append(1)\n",
    "                else:\n",
    "                    self.accept.append(0)\n",
    "                    self.chain.append(thetai)\n",
    "                    self.lnpchain.append(lpi)\n",
    "        return self.chain\n",
    "    \n",
    "    def cutchain(self,cutlen):\n",
    "        self.chain = self.chain[cutlen:]\n",
    "        self.lnpchain = self.lnpchain[cutlen:]\n",
    "        self.accept = self.accept[cutlen:]\n",
    "        return\n",
    "    \n",
    "    def spitstats(self):\n",
    "        acceptdict = {val:self.accept.count(val) for val in self.accept}\n",
    "        acceptratio = acceptdict[1]/float(len(self.accept))\n",
    "        print('Acceptance fraction: '+str(acceptratio))\n",
    "        \n",
    "        plt.plot(range(len(self.chain)),[val[0] for val in self.chain])\n",
    "        plt.title('Walk path for x values')\n",
    "        plt.xlabel('Step')\n",
    "        plt.ylabel('x')\n",
    "        plt.show()\n",
    "        plt.close()\n",
    "        \n",
    "        plt.plot(range(len(self.chain)),[val[1] for val in self.chain])\n",
    "        plt.title('Walk path for y values')\n",
    "        plt.xlabel('Step')\n",
    "        plt.ylabel('y')\n",
    "        plt.show()\n",
    "        plt.close()        \n",
    "        \n",
    "        plt.plot(range(len(self.lnpchain)),self.lnpchain)\n",
    "        plt.title('Probability path')\n",
    "        plt.xlabel('Step')\n",
    "        plt.ylabel('P(theta)')\n",
    "        plt.show()\n",
    "        plt.close()"
   ]
  },
  {
   "cell_type": "code",
   "execution_count": null,
   "metadata": {
    "collapsed": true
   },
   "outputs": [],
   "source": [
    "def solutionspace(chain,lnpchain):\n",
    "    '''Randomly samples the m,b pairs and plots them along with the data and \"correct\" model'''\n",
    "    xf,yf = fakedata(sigma,sigmax,npts)\n",
    "\n",
    "    \n",
    "    sz = len(chain)\n",
    "    if sz > 100:\n",
    "        erase = np.random.choice(range(len(chain)), len(chain)-100, replace=False)\n",
    "        chain = np.delete(chain,erase,0)\n",
    "        print(len(chain))\n",
    "        \n",
    "    fig = plt.figure(figsize=(10,8))\n",
    "    \n",
    "    x = np.arange(-20,22,20)\n",
    "    for i in range(len(chain)):\n",
    "        (mi,bi) = chain[i]\n",
    "        plt.plot(x,model(x,mi,bi),alpha=0.1,color='k')\n",
    "\n",
    "    data = plt.errorbar(xf,yf,yerr=sigma,linestyle='None',marker = '.')\n",
    "    real, = plt.plot(x,model(x,m,b),color='r')\n",
    "    plt.legend([real,data],['Actual','Data'],loc='upper left')    \n",
    "    \n",
    "    plt.xlim([-15,15])\n",
    "    plt.ylabel('y')\n",
    "    plt.xlabel('x')\n",
    "    \n",
    "    plt.show()\n",
    "    plt.close()\n",
    "\n",
    "    \n",
    "    \n"
   ]
  },
  {
   "cell_type": "code",
   "execution_count": null,
   "metadata": {
    "collapsed": false
   },
   "outputs": [],
   "source": [
    "mc = mcmc2d(nsteps=1000,theta0=(0,0),stepxy=(3,3))\n",
    "mc.metro_h()"
   ]
  },
  {
   "cell_type": "code",
   "execution_count": null,
   "metadata": {
    "collapsed": false
   },
   "outputs": [],
   "source": [
    "mc.spitstats()"
   ]
  },
  {
   "cell_type": "code",
   "execution_count": null,
   "metadata": {
    "collapsed": true
   },
   "outputs": [],
   "source": [
    "mc.cutchain(500)"
   ]
  },
  {
   "cell_type": "code",
   "execution_count": null,
   "metadata": {
    "collapsed": false
   },
   "outputs": [],
   "source": [
    "mc.spitstats()\n",
    "\n",
    "solutionspace(mc.chain,mc.lnpchain)\n",
    "# Why are my solutions always slightly more positive than they should be?"
   ]
  },
  {
   "cell_type": "markdown",
   "metadata": {
    "collapsed": true
   },
   "source": [
    "### 3.2"
   ]
  },
  {
   "cell_type": "code",
   "execution_count": 3,
   "metadata": {
    "collapsed": false
   },
   "outputs": [
    {
     "ename": "ImportError",
     "evalue": "No module named emcee",
     "output_type": "error",
     "traceback": [
      "\u001b[0;31m---------------------------------------------------------------------------\u001b[0m",
      "\u001b[0;31mImportError\u001b[0m                               Traceback (most recent call last)",
      "\u001b[0;32m<ipython-input-3-ac0fd3457afa>\u001b[0m in \u001b[0;36m<module>\u001b[0;34m()\u001b[0m\n\u001b[0;32m----> 1\u001b[0;31m \u001b[0;32mimport\u001b[0m \u001b[0memcee\u001b[0m\u001b[0;34m\u001b[0m\u001b[0m\n\u001b[0m",
      "\u001b[0;31mImportError\u001b[0m: No module named emcee"
     ]
    }
   ],
   "source": [
    "import emcee\n",
    "#I couldn't get emcee to work within a .ipynb; however it was working just fine\n",
    "# with regular .py files.  I'm looking into it.  For now I just put my solution\n",
    "# to the emcee part of the homework in a separate file, prob3pt2.py.  I hope\n",
    "# that's okay for this week."
   ]
  },
  {
   "cell_type": "code",
   "execution_count": null,
   "metadata": {
    "collapsed": true
   },
   "outputs": [],
   "source": []
  }
 ],
 "metadata": {
  "anaconda-cloud": {},
  "kernelspec": {
   "display_name": "Python [usepy2]",
   "language": "python",
   "name": "Python [usepy2]"
  },
  "language_info": {
   "codemirror_mode": {
    "name": "ipython",
    "version": 2
   },
   "file_extension": ".py",
   "mimetype": "text/x-python",
   "name": "python",
   "nbconvert_exporter": "python",
   "pygments_lexer": "ipython2",
   "version": "2.7.12"
  }
 },
 "nbformat": 4,
 "nbformat_minor": 0
}
